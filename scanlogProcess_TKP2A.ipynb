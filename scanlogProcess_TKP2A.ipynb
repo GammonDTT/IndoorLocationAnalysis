{
 "cells": [
  {
   "cell_type": "markdown",
   "metadata": {},
   "source": [
    "# Imports"
   ]
  },
  {
   "cell_type": "code",
   "execution_count": 1,
   "metadata": {},
   "outputs": [],
   "source": [
    "import numpy as np\n",
    "import pandas as pd\n",
    "import matplotlib.pyplot as plt\n",
    "import datetime\n",
    "\n",
    "\n",
    "# Styles\n",
    "%matplotlib inline\n",
    "plt.style.use(\"ggplot\")"
   ]
  },
  {
   "cell_type": "code",
   "execution_count": 2,
   "metadata": {},
   "outputs": [
    {
     "data": {
      "text/html": [
       "<div>\n",
       "<style scoped>\n",
       "    .dataframe tbody tr th:only-of-type {\n",
       "        vertical-align: middle;\n",
       "    }\n",
       "\n",
       "    .dataframe tbody tr th {\n",
       "        vertical-align: top;\n",
       "    }\n",
       "\n",
       "    .dataframe thead th {\n",
       "        text-align: right;\n",
       "    }\n",
       "</style>\n",
       "<table border=\"1\" class=\"dataframe\">\n",
       "  <thead>\n",
       "    <tr style=\"text-align: right;\">\n",
       "      <th></th>\n",
       "      <th>id</th>\n",
       "      <th>project</th>\n",
       "      <th>scannerId</th>\n",
       "      <th>beaconRssi</th>\n",
       "      <th>beaconAddr</th>\n",
       "    </tr>\n",
       "    <tr>\n",
       "      <th>datetime</th>\n",
       "      <th></th>\n",
       "      <th></th>\n",
       "      <th></th>\n",
       "      <th></th>\n",
       "      <th></th>\n",
       "    </tr>\n",
       "  </thead>\n",
       "  <tbody>\n",
       "    <tr>\n",
       "      <th>2018-02-05 09:35:00</th>\n",
       "      <td>{F0F461BE-3E3E-4BD0-878B-DD61734DB144}</td>\n",
       "      <td>J3628</td>\n",
       "      <td>00000000db73dcea</td>\n",
       "      <td>-32</td>\n",
       "      <td>f9:79:bd:be:99:bf</td>\n",
       "    </tr>\n",
       "    <tr>\n",
       "      <th>2018-02-05 09:35:00</th>\n",
       "      <td>{088F2565-75E2-4788-9C45-48260C665EE6}</td>\n",
       "      <td>J3628</td>\n",
       "      <td>00000000db73dcea</td>\n",
       "      <td>-32</td>\n",
       "      <td>f9:79:bd:be:99:bf</td>\n",
       "    </tr>\n",
       "    <tr>\n",
       "      <th>2018-02-05 09:35:00</th>\n",
       "      <td>{FCCD9FE3-5612-4889-9165-B3CA23DE78E3}</td>\n",
       "      <td>J3628</td>\n",
       "      <td>00000000db73dcea</td>\n",
       "      <td>-32</td>\n",
       "      <td>f9:79:bd:be:99:bf</td>\n",
       "    </tr>\n",
       "    <tr>\n",
       "      <th>2018-02-05 09:35:00</th>\n",
       "      <td>{82F7D247-45FC-4AFF-B622-27EC6F18B44F}</td>\n",
       "      <td>J3628</td>\n",
       "      <td>00000000db73dcea</td>\n",
       "      <td>-32</td>\n",
       "      <td>f9:79:bd:be:99:bf</td>\n",
       "    </tr>\n",
       "    <tr>\n",
       "      <th>2018-02-05 09:35:00</th>\n",
       "      <td>{DC9F417F-69AB-4CD6-8FE0-7C2EE888E229}</td>\n",
       "      <td>J3628</td>\n",
       "      <td>00000000db73dcea</td>\n",
       "      <td>-32</td>\n",
       "      <td>f9:79:bd:be:99:bf</td>\n",
       "    </tr>\n",
       "  </tbody>\n",
       "</table>\n",
       "</div>"
      ],
      "text/plain": [
       "                                                         id project  \\\n",
       "datetime                                                              \n",
       "2018-02-05 09:35:00  {F0F461BE-3E3E-4BD0-878B-DD61734DB144}   J3628   \n",
       "2018-02-05 09:35:00  {088F2565-75E2-4788-9C45-48260C665EE6}   J3628   \n",
       "2018-02-05 09:35:00  {FCCD9FE3-5612-4889-9165-B3CA23DE78E3}   J3628   \n",
       "2018-02-05 09:35:00  {82F7D247-45FC-4AFF-B622-27EC6F18B44F}   J3628   \n",
       "2018-02-05 09:35:00  {DC9F417F-69AB-4CD6-8FE0-7C2EE888E229}   J3628   \n",
       "\n",
       "                            scannerId  beaconRssi         beaconAddr  \n",
       "datetime                                                              \n",
       "2018-02-05 09:35:00  00000000db73dcea         -32  f9:79:bd:be:99:bf  \n",
       "2018-02-05 09:35:00  00000000db73dcea         -32  f9:79:bd:be:99:bf  \n",
       "2018-02-05 09:35:00  00000000db73dcea         -32  f9:79:bd:be:99:bf  \n",
       "2018-02-05 09:35:00  00000000db73dcea         -32  f9:79:bd:be:99:bf  \n",
       "2018-02-05 09:35:00  00000000db73dcea         -32  f9:79:bd:be:99:bf  "
      ]
     },
     "execution_count": 2,
     "metadata": {},
     "output_type": "execute_result"
    }
   ],
   "source": [
    "# Import into dataframes\n",
    "rawLogdf = pd.read_csv(\"C:/Users/jeremiahto/OneDrive/Gammon/Innovation/Digital Transformation/Project/20170901 Indoor Positioning/LabourTracking/20171215 Trial at TKP2A/scanlog/20180220CPR.csv\",\n",
    "                       header=0,\n",
    "                       index_col=1)\n",
    "# RPI006df = pd.read_csv(\"C:/Users/jeremiahto/OneDrive/Gammon/Innovation/Digital Transformation/Project/20170901 Indoor Positioning/LabourTracking/IndoorPositioningRecords/scanlog_0000000007e30f08.csv\", names=[\"project\", \"scannerId\", \"datetime\", \"beaconAddr\", \"beaconRssi\"], index_col=2)\n",
    "rawLogdf.index = pd.to_datetime(rawLogdf.index, dayfirst=True)\n",
    "rawLogdf = rawLogdf.sort_index()\n",
    "rawLogdf.head()"
   ]
  },
  {
   "cell_type": "code",
   "execution_count": 3,
   "metadata": {},
   "outputs": [],
   "source": [
    "# Parameters\n",
    "scannerList = [\"0000000092c5c041\", \"00000000db73dcea\", \"0000000007e30f08\"]  #RPI-001,005,006\n",
    "scannerThresRev = [-100, -100, -100]\n",
    "startTime = pd.to_timedelta(\"00:00:00\")  # To be adjusted if required\n",
    "tolerance = pd.to_timedelta(\"00:00:21\")  # The series of reading will still be considered as one continuous unit if the gap between reading does not exceed this value\n",
    "\n",
    "rmCount = 0  # Initialise room count to zero at starttime\n",
    "#uniqTime = []\n",
    "cprContent = []  # Chiller Plant Room (cpr)\n",
    "#cprContentCount = []"
   ]
  },
  {
   "cell_type": "code",
   "execution_count": 4,
   "metadata": {},
   "outputs": [
    {
     "name": "stdout",
     "output_type": "stream",
     "text": [
      "Please provide the start date: [yyyy-mm-dd] 2018-02-21\n"
     ]
    }
   ],
   "source": [
    "startDate = pd.to_datetime(input(\"Please provide the start date: [yyyy-mm-dd] \")) + startTime"
   ]
  },
  {
   "cell_type": "code",
   "execution_count": 5,
   "metadata": {},
   "outputs": [
    {
     "name": "stdout",
     "output_type": "stream",
     "text": [
      "Please provide the end date: [yyyy-mm-dd] 2018-02-21\n"
     ]
    }
   ],
   "source": [
    "endDate = pd.to_datetime(input(\"Please provide the end date: [yyyy-mm-dd] \")) + pd.to_timedelta(\"1 day\") + startTime"
   ]
  },
  {
   "cell_type": "code",
   "execution_count": 6,
   "metadata": {},
   "outputs": [],
   "source": [
    "def countAsContinuous(beaconAddr, tolerance, uniqTime, cprContent, timenow):\n",
    "    # Check if the data should be counted as one continuous reading\n",
    "    rvIndexLast = None\n",
    "    cprContentRv = cprContent[::-1]\n",
    "    for i in range(len(cprContentRv)):\n",
    "        if beaconAddr in cprContentRv[i]:\n",
    "            rvIndexLast = i\n",
    "            break\n",
    "    if rvIndexLast == None:\n",
    "        return False\n",
    "    else:\n",
    "        timeLastAppear = uniqTime[len(cprContent)-rvIndexLast-1]\n",
    "        #print(\"timenow = {}\".format(timenow))  # Debugging only\n",
    "        #print(\"timeLastAppear = {}\".format(timeLastAppear))  # Debugging only\n",
    "        if timenow - timeLastAppear > tolerance:\n",
    "            return False\n",
    "        else:\n",
    "            return True"
   ]
  },
  {
   "cell_type": "code",
   "execution_count": 7,
   "metadata": {},
   "outputs": [],
   "source": [
    "# Filter beacons\n",
    "Logdf = rawLogdf[rawLogdf.beaconAddr.isin([\"f9:79:bd:be:99:bf\", \"c8:03:83:4f:aa:42\"])]  # Only for filtering certain beacons, not required in production\n",
    "Logdf = Logdf[startDate:endDate]\n",
    "# TODO "
   ]
  },
  {
   "cell_type": "code",
   "execution_count": 8,
   "metadata": {},
   "outputs": [],
   "source": [
    "# # rawLogdf.beaconAddr == \"f9:79:bd:be:99:bf\"\n",
    "# '''\n",
    "# row\n",
    "# [0] datetime\n",
    "# [1] id\n",
    "# [2] project\n",
    "# [3] scannerId\n",
    "# [4] beaconRssi\n",
    "# [5] beaconAddr\n",
    "# '''\n",
    "\n",
    "# for row in Logdf.itertuples():\n",
    "#     if row[4] >= scannerThresRev[scannerList.index(row[3])]:  # Check RSSI is above threshold\n",
    "#         if len(uniqTime) < 1:  # If uniqTime is empty, add stuff!\n",
    "#             uniqTime.append(row[0])\n",
    "#             cprContent.append([row[5]])\n",
    "#         elif row[0] == uniqTime[-1]:  # If we are talking about the same scan cycle, \n",
    "#             if row[5] not in cprContent[-1]:\n",
    "#                 cprContent[-1].append(row[5])\n",
    "# #            else:\n",
    "# #                cprContent[-1].remove(row[5])\n",
    "#         elif not countAsContinuous(row[5],tolerance,uniqTime,cprContent,row[0]):\n",
    "#             uniqTime.append(row[0])\n",
    "#             cprContent.append(cprContent[-1])\n",
    "#             if row[5] not in cprContent[-1]:\n",
    "#                 cprContent[-1].append(row[5])\n",
    "#             else:\n",
    "#                 cprContent[-1].remove(row[5])\n",
    "            "
   ]
  },
  {
   "cell_type": "code",
   "execution_count": 9,
   "metadata": {},
   "outputs": [],
   "source": [
    "uniqTime = sorted(list(set(Logdf.index)))\n",
    "uniqAddrGate = []"
   ]
  },
  {
   "cell_type": "code",
   "execution_count": 10,
   "metadata": {},
   "outputs": [
    {
     "name": "stdout",
     "output_type": "stream",
     "text": [
      "timenow = 2018-02-21 17:01:00\n",
      "timeLastAppear = 2018-02-21 17:00:00\n",
      "not count cont\n",
      "[['f9:79:bd:be:99:bf'], []]\n",
      "timenow = 2018-02-21 17:10:00\n",
      "timeLastAppear = 2018-02-21 17:00:00\n",
      "not count cont\n",
      "[['f9:79:bd:be:99:bf'], [], ['f9:79:bd:be:99:bf']]\n",
      "timenow = 2018-02-21 17:16:00\n",
      "timeLastAppear = 2018-02-21 17:10:00\n",
      "not count cont\n",
      "[['f9:79:bd:be:99:bf'], [], ['f9:79:bd:be:99:bf'], []]\n",
      "timenow = 2018-02-21 17:17:00\n",
      "timeLastAppear = 2018-02-21 17:10:00\n",
      "not count cont\n",
      "[['f9:79:bd:be:99:bf'], [], ['f9:79:bd:be:99:bf'], [], ['f9:79:bd:be:99:bf']]\n",
      "timenow = 2018-02-21 17:18:00\n",
      "timeLastAppear = 2018-02-21 17:17:00\n",
      "not count cont\n",
      "[['f9:79:bd:be:99:bf'], [], ['f9:79:bd:be:99:bf'], [], ['f9:79:bd:be:99:bf'], []]\n",
      "timenow = 2018-02-21 17:19:00\n",
      "timeLastAppear = 2018-02-21 17:17:00\n",
      "not count cont\n",
      "[['f9:79:bd:be:99:bf'], [], ['f9:79:bd:be:99:bf'], [], ['f9:79:bd:be:99:bf'], [], ['f9:79:bd:be:99:bf']]\n",
      "timenow = 2018-02-21 17:20:00\n",
      "timeLastAppear = 2018-02-21 17:19:00\n",
      "not count cont\n",
      "[['f9:79:bd:be:99:bf'], [], ['f9:79:bd:be:99:bf'], [], ['f9:79:bd:be:99:bf'], [], ['f9:79:bd:be:99:bf'], []]\n",
      "timenow = 2018-02-21 17:21:00\n",
      "timeLastAppear = 2018-02-21 17:19:00\n",
      "not count cont\n",
      "[['f9:79:bd:be:99:bf'], [], ['f9:79:bd:be:99:bf'], [], ['f9:79:bd:be:99:bf'], [], ['f9:79:bd:be:99:bf'], [], ['f9:79:bd:be:99:bf']]\n",
      "timenow = 2018-02-21 17:22:00\n",
      "timeLastAppear = 2018-02-21 17:21:00\n",
      "not count cont\n",
      "[['f9:79:bd:be:99:bf'], [], ['f9:79:bd:be:99:bf'], [], ['f9:79:bd:be:99:bf'], [], ['f9:79:bd:be:99:bf'], [], ['f9:79:bd:be:99:bf'], []]\n",
      "timenow = 2018-02-21 17:23:00\n",
      "timeLastAppear = 2018-02-21 17:21:00\n",
      "not count cont\n",
      "[['f9:79:bd:be:99:bf'], [], ['f9:79:bd:be:99:bf'], [], ['f9:79:bd:be:99:bf'], [], ['f9:79:bd:be:99:bf'], [], ['f9:79:bd:be:99:bf'], [], ['f9:79:bd:be:99:bf']]\n",
      "timenow = 2018-02-21 17:24:00\n",
      "timeLastAppear = 2018-02-21 17:23:00\n",
      "not count cont\n",
      "[['f9:79:bd:be:99:bf'], [], ['f9:79:bd:be:99:bf'], [], ['f9:79:bd:be:99:bf'], [], ['f9:79:bd:be:99:bf'], [], ['f9:79:bd:be:99:bf'], [], ['f9:79:bd:be:99:bf'], []]\n",
      "timenow = 2018-02-21 17:25:00\n",
      "timeLastAppear = 2018-02-21 17:23:00\n",
      "not count cont\n",
      "[['f9:79:bd:be:99:bf'], [], ['f9:79:bd:be:99:bf'], [], ['f9:79:bd:be:99:bf'], [], ['f9:79:bd:be:99:bf'], [], ['f9:79:bd:be:99:bf'], [], ['f9:79:bd:be:99:bf'], [], ['f9:79:bd:be:99:bf']]\n"
     ]
    }
   ],
   "source": [
    "for i in range(len(uniqTime)):  # Reading at the gate at all the recorded times in the dataframe\n",
    "    nowLogdf = Logdf[Logdf.index == uniqTime[i]]\n",
    "    nowUniqAddrGate = list(set(nowLogdf.beaconAddr))\n",
    "    uniqAddrGate.append(nowUniqAddrGate)\n",
    "    #print(nowUniqBeaconAddr)\n",
    "    #for row in nowLogdf.itertuples():\n",
    "    \n",
    "    # TODO: cprContent\n",
    "    if len(cprContent) < 1:\n",
    "        cprContent.append(nowUniqAddrGate)\n",
    "    else:\n",
    "        for beaconAddr in nowUniqAddrGate:\n",
    "            if not countAsContinuous(beaconAddr = beaconAddr, tolerance = tolerance, uniqTime = uniqTime, cprContent = cprContent, timenow = uniqTime[i]):\n",
    "                cprContent.append(cprContent[-1][:])\n",
    "                if beaconAddr in cprContent[-1]:\n",
    "                    cprContent[-1].remove(beaconAddr)\n",
    "                else:\n",
    "                    cprContent[-1].append(beaconAddr)\n",
    "                print(cprContent)"
   ]
  },
  {
   "cell_type": "code",
   "execution_count": 16,
   "metadata": {},
   "outputs": [
    {
     "data": {
      "text/plain": [
       "[1, 0, 1, 0, 1, 0, 1, 0, 1, 0, 1, 0, 1]"
      ]
     },
     "execution_count": 16,
     "metadata": {},
     "output_type": "execute_result"
    }
   ],
   "source": [
    "cprContentCount = []\n",
    "for i in range(len(cprContent)):\n",
    "    cprContentCount.append(len(cprContent[i]))\n",
    "cprContentCount"
   ]
  },
  {
   "cell_type": "code",
   "execution_count": 27,
   "metadata": {},
   "outputs": [],
   "source": [
    "summarydf = pd.DataFrame({\"Gate Reading\": uniqAddrGate,\n",
    "                         \"Beacons in Room\": cprContent,\n",
    "                         \"Room Beacon Count\": cprContentCount}, index = uniqTime)\n",
    "summarydf.to_csv(\"C:\\\\Users\\\\jeremiahto\\\\OneDrive\\\\Gammon\\\\Innovation\\\\Digital Transformation\\\\Project\\\\20170901 Indoor Positioning\\\\LabourTracking\\\\20171215 Trial at TKP2A\\\\scanlog\\\\20180221\\\\summarydf.csv\")"
   ]
  },
  {
   "cell_type": "code",
   "execution_count": 31,
   "metadata": {},
   "outputs": [
    {
     "data": {
      "text/plain": [
       "<matplotlib.axes._subplots.AxesSubplot at 0x1cb058ebc88>"
      ]
     },
     "execution_count": 31,
     "metadata": {},
     "output_type": "execute_result"
    },
    {
     "data": {
      "image/png": "[encoded data removed]",
      "text/plain": [
       "<matplotlib.figure.Figure at 0x1cb0648ee80>"
      ]
     },
     "metadata": {},
     "output_type": "display_data"
    }
   ],
   "source": [
    "summarydf.plot.bar()"
   ]
  }
 ],
 "metadata": {
  "kernelspec": {
   "display_name": "Python 3",
   "language": "python",
   "name": "python3"
  },
  "language_info": {
   "codemirror_mode": {
    "name": "ipython",
    "version": 3
   },
   "file_extension": ".py",
   "mimetype": "text/x-python",
   "name": "python",
   "nbconvert_exporter": "python",
   "pygments_lexer": "ipython3",
   "version": "3.6.4"
  }
 },
 "nbformat": 4,
 "nbformat_minor": 2
}
